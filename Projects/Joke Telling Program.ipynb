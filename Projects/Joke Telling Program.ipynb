{
 "cells": [
  {
   "cell_type": "markdown",
   "metadata": {},
   "source": [
    "# PROJECT-2 : JOKE TELLING PROGRAM\n",
    "\n",
    "**By : Muhammad Kareem**\n",
    "\n",
    "In this project we're going to use an available public API to create a script that can fetch us a random dad joke with each request we'll make\n",
    "\n",
    "In this program we're going to learn few interesting topics\n",
    "\n",
    "- Requests module : helps us make HTTP requests to websites / any endpoints and recieve a response we can format\n",
    "\n",
    "- API responses : wether it's a string or a json object and how to parse them \n",
    "\n",
    "- An HTTP request body headers and parameters\n",
    "\n",
    "Let's get right into business and decide our workflow for this project "
   ]
  },
  {
   "cell_type": "markdown",
   "metadata": {},
   "source": [
    "### What we'll be doing \n",
    "\n",
    "- Firstly we'll import `requests` module after installing it with `pip install requests`\n",
    "\n",
    "- We'll make a `GET` request to the API endpoint we desire including our headers and parameters\n",
    "\n",
    "- We'll recieve an HTTP response which is mostly json for most of the APIs \n",
    "\n",
    "- We'll parse the json for the output we want and ignore some other stuff\n",
    "\n",
    "- We'll format our response and display it to the user "
   ]
  },
  {
   "cell_type": "code",
   "execution_count": 16,
   "metadata": {},
   "outputs": [
    {
     "name": "stdout",
     "output_type": "stream",
     "text": [
      "{'id': '0wcFBQfiGBd', 'joke': 'Did you hear the joke about the wandering nun? She was a roman catholic.', 'status': 200}\n"
     ]
    }
   ],
   "source": [
    "# IMporting the requests module\n",
    "\n",
    "import requests\n",
    "\n",
    "# Specifying the endpoint we want to send a GET request to\n",
    "\n",
    "url = \" https://icanhazdadjoke.com/\"\n",
    "\n",
    "# Setting up the headers to only accept json responses\n",
    "\n",
    "headers = {'Accept':'application/json'}\n",
    "\n",
    "# Making our GET request to the url and providing the headers\n",
    "\n",
    "res = requests.get(url,headers=headers)\n",
    "\n",
    "# Calling the json() method on the response so we can structure it as a json object so we access values with their keys\n",
    "\n",
    "print(res.json())"
   ]
  },
  {
   "cell_type": "markdown",
   "metadata": {},
   "source": [
    "### Parsing the response\n",
    "\n",
    "As you saw, the response was a json because that's what we specified in the headers and it's easy to parse json in python since it's very similar to how a dictionary works, we access values with their keys so to format the response nicely we're only going to take the `joke` and assign it to a variable and printing it"
   ]
  },
  {
   "cell_type": "code",
   "execution_count": 17,
   "metadata": {},
   "outputs": [
    {
     "name": "stdout",
     "output_type": "stream",
     "text": [
      "Did you hear the joke about the wandering nun? She was a roman catholic.\n"
     ]
    }
   ],
   "source": [
    "joke = res.json()['joke']\n",
    "print(joke)"
   ]
  },
  {
   "cell_type": "markdown",
   "metadata": {},
   "source": [
    "### Quick notes on working with APIs\n",
    "\n",
    "- headers are used for mostly authentication and deciding what response to expect from the server\n",
    "\n",
    "- params or paramters are used to insert queries within the request body, think about google and how we make a `GET` request to retrieve some data about a specific query\n",
    "\n",
    "- Some APIs are public just like this one we used where we didn't have to authenticate to make a request and some require an authentication\n",
    "\n",
    "- Some APIs don't have a **rate limit** which means you can make as many requests as you want, and some have that to moderate users usage of the API without overloading the servers\n",
    "\n",
    "- Common responses are : HTML,JSON,XML,plaintext and others \n",
    "\n",
    "- You can explore this API we just used [here](https://icanhazdadjoke.com/api)"
   ]
  },
  {
   "cell_type": "code",
   "execution_count": null,
   "metadata": {},
   "outputs": [],
   "source": []
  }
 ],
 "metadata": {
  "kernelspec": {
   "display_name": "Python 3",
   "language": "python",
   "name": "python3"
  },
  "language_info": {
   "codemirror_mode": {
    "name": "ipython",
    "version": 3
   },
   "file_extension": ".py",
   "mimetype": "text/x-python",
   "name": "python",
   "nbconvert_exporter": "python",
   "pygments_lexer": "ipython3",
   "version": "3.7.7"
  }
 },
 "nbformat": 4,
 "nbformat_minor": 4
}
