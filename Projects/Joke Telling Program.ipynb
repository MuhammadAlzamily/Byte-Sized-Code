{
 "cells": [
  {
   "cell_type": "markdown",
   "metadata": {},
   "source": [
    "# Joke Telling Program\n",
    "\n",
    "**By: Muhammad Kareem**\n",
    "\n",
    "In this project we're going to build a program that fetches a random joke from an API and displays it for us.\n",
    "We're gonna be using a cool and super popular module and this project will give you basic idea of how to work with APIs\n",
    "\n",
    "### What we'll be doing\n",
    "\n",
    "The steps to this project are fairly simple and i'll explain each step as we go \n",
    "\n",
    "- Install a module called **requests** that allows us to make HTTP requests to wbsites on the web, we do so using the command `pip install requests`\n",
    "\n",
    "- We'll make a `GET` request to the API endpoint using *requests* anad the headers we'll provide in the request body\n",
    "\n",
    "- After recieving the json response from the API we're gonna parse it for the result we want, don't worry json is like a dictionary in python so it's also key-value pairs\n",
    "\n",
    "- Display the result on the screen and later on i'll suggest few cool ideas to do with it other than displaying it on your terminal "
   ]
  },
  {
   "cell_type": "markdown",
   "metadata": {},
   "source": [
    "### Working example "
   ]
  },
  {
   "cell_type": "code",
   "execution_count": 3,
   "metadata": {},
   "outputs": [
    {
     "name": "stdout",
     "output_type": "stream",
     "text": [
      "{'id': '99MZvHJJtzd', 'joke': \"Why don't sharks eat clowns?  Because they taste funny.\", 'status': 200}\n"
     ]
    }
   ],
   "source": [
    "# importing requests\n",
    "\n",
    "import requests\n",
    "\n",
    "# specifying the url to make the GET request to \n",
    "\n",
    "url = \"https://icanhazdadjoke.com/\"\n",
    "\n",
    "# specify our headers which help us decide what response to expect\n",
    "\n",
    "headers = {'Accept':'application/json'}\n",
    "\n",
    "# making the GET request to the url with the headers \n",
    "\n",
    "res = requests.get(url,headers=headers)\n",
    "\n",
    "# printing the response as a json object because it's easier to parse \n",
    "\n",
    "print(res.json())"
   ]
  },
  {
   "cell_type": "markdown",
   "metadata": {},
   "source": [
    "Now that you've seen what the response looks like, let's only extract the joke value and print it"
   ]
  },
  {
   "cell_type": "code",
   "execution_count": 4,
   "metadata": {},
   "outputs": [
    {
     "name": "stdout",
     "output_type": "stream",
     "text": [
      "Why don't sharks eat clowns?  Because they taste funny.\n"
     ]
    }
   ],
   "source": [
    "print(res.json()['joke'])"
   ]
  },
  {
   "cell_type": "markdown",
   "metadata": {},
   "source": [
    "json is very easy to work with, let's try and extract the other values returned with the response the same way"
   ]
  },
  {
   "cell_type": "code",
   "execution_count": 5,
   "metadata": {},
   "outputs": [
    {
     "name": "stdout",
     "output_type": "stream",
     "text": [
      "99MZvHJJtzd\n"
     ]
    }
   ],
   "source": [
    "print(res.json()['id'])"
   ]
  },
  {
   "cell_type": "code",
   "execution_count": 7,
   "metadata": {},
   "outputs": [
    {
     "name": "stdout",
     "output_type": "stream",
     "text": [
      "200\n"
     ]
    }
   ],
   "source": [
    "print(res.json()['status'])"
   ]
  },
  {
   "cell_type": "markdown",
   "metadata": {},
   "source": [
    "### How to improve this program\n",
    "\n",
    "In general, this is the way to work with any API, you send a GET or POST request to an endpoint and provide headers and sometimes parameters.\n",
    "\n",
    "In similar situations you might need to provide some error handling in case something goes wrong, say you provided the wrong API key or some authentication token so to make our program more maintainable we'll add a an if statement to check the status code of the response"
   ]
  },
  {
   "cell_type": "code",
   "execution_count": 8,
   "metadata": {},
   "outputs": [
    {
     "name": "stdout",
     "output_type": "stream",
     "text": [
      "{'id': '99MZvHJJtzd', 'joke': \"Why don't sharks eat clowns?  Because they taste funny.\", 'status': 200}\n"
     ]
    }
   ],
   "source": [
    "if res.status_code == 200:\n",
    "    print(res.json())\n",
    "else:\n",
    "    print(\"Something went wrong with your request\")"
   ]
  },
  {
   "cell_type": "markdown",
   "metadata": {},
   "source": [
    "You can also make use of APIs in your web apps or GUI apps so it won't be just a boring text on the screen.\n",
    "Another cool idea you can do for your friends is a jokes bot for telegram / reddit / discord or - my personal favorite = an automated discord webhook that regularly makes a request, fetches a joke and sends it into some channel "
   ]
  },
  {
   "cell_type": "markdown",
   "metadata": {},
   "source": [
    "### References\n",
    "\n",
    "The API we used can be found [here](https://icanhazdadjoke.com/api), feel free to explore other endpoints\n",
    "\n",
    "The documentation for the requests module can be found [here](https://requests.readthedocs.io/en/master/), insanely powerful module and super useful "
   ]
  },
  {
   "cell_type": "code",
   "execution_count": null,
   "metadata": {},
   "outputs": [],
   "source": []
  }
 ],
 "metadata": {
  "kernelspec": {
   "display_name": "Python 3",
   "language": "python",
   "name": "python3"
  },
  "language_info": {
   "codemirror_mode": {
    "name": "ipython",
    "version": 3
   },
   "file_extension": ".py",
   "mimetype": "text/x-python",
   "name": "python",
   "nbconvert_exporter": "python",
   "pygments_lexer": "ipython3",
   "version": "3.7.7"
  }
 },
 "nbformat": 4,
 "nbformat_minor": 4
}
