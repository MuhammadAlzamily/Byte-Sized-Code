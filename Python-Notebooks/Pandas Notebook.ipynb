{
 "cells": [
  {
   "cell_type": "markdown",
   "metadata": {},
   "source": [
    "# Pandas In Python\n",
    "\n",
    "**By Muhammad Kareem**"
   ]
  },
  {
   "cell_type": "markdown",
   "metadata": {},
   "source": [
    "### What is pandas ?\n",
    "\n",
    "Pandas is a powerful python module for data analysis and it has essential features for any data science project\n",
    "\n",
    "### Why pandas?\n",
    "\n",
    "Pandas provide awesome features for data analysis and visualization with very few lines of code yet outstanding effect, Some of the major features it has are as follows :\n",
    "\n",
    "- Sorting out data and creating awesome insights on the data\n",
    "\n",
    "- Beautiful plots on the generated data to provide a visualizaed view of the data for non - programmers \n",
    "\n",
    "- Indexing and sorting out values in data\n",
    "\n",
    "- Handling big data (data as big as millions of entries)\n",
    "\n",
    "- Cleaning up data and handling missing values"
   ]
  },
  {
   "cell_type": "markdown",
   "metadata": {},
   "source": [
    "### Installing pandas \n",
    "\n",
    "`pip install pandas` for regular installation and refer to the [documentations of pandas](https://docs.anaconda.com/anaconda/navigator/tutorials/pandas/) if you're using any virtual environment"
   ]
  },
  {
   "cell_type": "markdown",
   "metadata": {},
   "source": [
    "### Creating your first dataframe\n",
    "\n",
    "In this very basic example we'll see what are dataframes and how to work with data"
   ]
  },
  {
   "cell_type": "code",
   "execution_count": 1,
   "metadata": {},
   "outputs": [
    {
     "data": {
      "text/html": [
       "<div>\n",
       "<style scoped>\n",
       "    .dataframe tbody tr th:only-of-type {\n",
       "        vertical-align: middle;\n",
       "    }\n",
       "\n",
       "    .dataframe tbody tr th {\n",
       "        vertical-align: top;\n",
       "    }\n",
       "\n",
       "    .dataframe thead th {\n",
       "        text-align: right;\n",
       "    }\n",
       "</style>\n",
       "<table border=\"1\" class=\"dataframe\">\n",
       "  <thead>\n",
       "    <tr style=\"text-align: right;\">\n",
       "      <th></th>\n",
       "      <th>name</th>\n",
       "      <th>job</th>\n",
       "      <th>age</th>\n",
       "    </tr>\n",
       "  </thead>\n",
       "  <tbody>\n",
       "    <tr>\n",
       "      <th>0</th>\n",
       "      <td>Joe</td>\n",
       "      <td>Data scientist</td>\n",
       "      <td>26</td>\n",
       "    </tr>\n",
       "    <tr>\n",
       "      <th>1</th>\n",
       "      <td>Peter</td>\n",
       "      <td>Python developer</td>\n",
       "      <td>25</td>\n",
       "    </tr>\n",
       "    <tr>\n",
       "      <th>2</th>\n",
       "      <td>Chris</td>\n",
       "      <td>Java developer</td>\n",
       "      <td>31</td>\n",
       "    </tr>\n",
       "    <tr>\n",
       "      <th>3</th>\n",
       "      <td>Quagmire</td>\n",
       "      <td>C developer</td>\n",
       "      <td>29</td>\n",
       "    </tr>\n",
       "  </tbody>\n",
       "</table>\n",
       "</div>"
      ],
      "text/plain": [
       "       name               job  age\n",
       "0       Joe    Data scientist   26\n",
       "1     Peter  Python developer   25\n",
       "2     Chris    Java developer   31\n",
       "3  Quagmire       C developer   29"
      ]
     },
     "execution_count": 1,
     "metadata": {},
     "output_type": "execute_result"
    }
   ],
   "source": [
    "# FIRST WE WILL IMPORT PANDAS\n",
    "\n",
    "import pandas as pd\n",
    "\n",
    "employees = pd.DataFrame({\n",
    "    'name':['Joe','Peter','Chris','Quagmire'],\n",
    "    'job':['Data scientist','Python developer','Java developer','C developer'],\n",
    "    'age':[26,25,31,29]\n",
    "})\n",
    "employees"
   ]
  },
  {
   "cell_type": "markdown",
   "metadata": {},
   "source": [
    "So to create the dataframe, pandas has a `DataFrame()` method to help us do that and to structure a dataframe it's basically a dictionary where the keys are columns names and the values are a list of values for those columns"
   ]
  },
  {
   "cell_type": "markdown",
   "metadata": {},
   "source": [
    "### Indexing your data\n",
    "\n",
    "So imagine we'll create like a dataframe of some sort of sales of products and will include three customers reviews of the products and then we'll see how to explore the data "
   ]
  },
  {
   "cell_type": "code",
   "execution_count": 4,
   "metadata": {},
   "outputs": [
    {
     "data": {
      "text/html": [
       "<div>\n",
       "<style scoped>\n",
       "    .dataframe tbody tr th:only-of-type {\n",
       "        vertical-align: middle;\n",
       "    }\n",
       "\n",
       "    .dataframe tbody tr th {\n",
       "        vertical-align: top;\n",
       "    }\n",
       "\n",
       "    .dataframe thead th {\n",
       "        text-align: right;\n",
       "    }\n",
       "</style>\n",
       "<table border=\"1\" class=\"dataframe\">\n",
       "  <thead>\n",
       "    <tr style=\"text-align: right;\">\n",
       "      <th></th>\n",
       "      <th>Product</th>\n",
       "      <th>Peter</th>\n",
       "      <th>Louis</th>\n",
       "      <th>Meg</th>\n",
       "    </tr>\n",
       "  </thead>\n",
       "  <tbody>\n",
       "    <tr>\n",
       "      <th>0</th>\n",
       "      <td>2016 Sales</td>\n",
       "      <td>92</td>\n",
       "      <td>84</td>\n",
       "      <td>96</td>\n",
       "    </tr>\n",
       "    <tr>\n",
       "      <th>1</th>\n",
       "      <td>2017 Sales</td>\n",
       "      <td>91</td>\n",
       "      <td>91</td>\n",
       "      <td>86</td>\n",
       "    </tr>\n",
       "    <tr>\n",
       "      <th>2</th>\n",
       "      <td>2018 Sales</td>\n",
       "      <td>88</td>\n",
       "      <td>75</td>\n",
       "      <td>80</td>\n",
       "    </tr>\n",
       "    <tr>\n",
       "      <th>3</th>\n",
       "      <td>2019 Sales</td>\n",
       "      <td>95</td>\n",
       "      <td>83</td>\n",
       "      <td>88</td>\n",
       "    </tr>\n",
       "    <tr>\n",
       "      <th>4</th>\n",
       "      <td>2020 Sales</td>\n",
       "      <td>66</td>\n",
       "      <td>90</td>\n",
       "      <td>90</td>\n",
       "    </tr>\n",
       "  </tbody>\n",
       "</table>\n",
       "</div>"
      ],
      "text/plain": [
       "      Product  Peter  Louis  Meg\n",
       "0  2016 Sales     92     84   96\n",
       "1  2017 Sales     91     91   86\n",
       "2  2018 Sales     88     75   80\n",
       "3  2019 Sales     95     83   88\n",
       "4  2020 Sales     66     90   90"
      ]
     },
     "execution_count": 4,
     "metadata": {},
     "output_type": "execute_result"
    }
   ],
   "source": [
    "sales = pd.DataFrame({\n",
    "    'Product':['2016 Sales','2017 Sales','2018 Sales','2019 Sales','2020 Sales'],\n",
    "    'Peter':[92,91,88,95,66],\n",
    "    'Louis':[84,91,75,83,90],\n",
    "    'Meg':[96,86,80,88,90],\n",
    "})\n",
    "sales"
   ]
  },
  {
   "cell_type": "markdown",
   "metadata": {},
   "source": [
    "Now this looks alright but don't you think those index numbers are kind of useless here ? we're supposed to view reviews data of sales so why not index by the product so all the other columns are basically reviews of it ? Let's see how to do that"
   ]
  },
  {
   "cell_type": "code",
   "execution_count": 7,
   "metadata": {},
   "outputs": [
    {
     "data": {
      "text/html": [
       "<div>\n",
       "<style scoped>\n",
       "    .dataframe tbody tr th:only-of-type {\n",
       "        vertical-align: middle;\n",
       "    }\n",
       "\n",
       "    .dataframe tbody tr th {\n",
       "        vertical-align: top;\n",
       "    }\n",
       "\n",
       "    .dataframe thead th {\n",
       "        text-align: right;\n",
       "    }\n",
       "</style>\n",
       "<table border=\"1\" class=\"dataframe\">\n",
       "  <thead>\n",
       "    <tr style=\"text-align: right;\">\n",
       "      <th></th>\n",
       "      <th>Peter</th>\n",
       "      <th>Louis</th>\n",
       "      <th>Meg</th>\n",
       "    </tr>\n",
       "  </thead>\n",
       "  <tbody>\n",
       "    <tr>\n",
       "      <th>2016 Sales</th>\n",
       "      <td>92</td>\n",
       "      <td>84</td>\n",
       "      <td>96</td>\n",
       "    </tr>\n",
       "    <tr>\n",
       "      <th>2017 Sales</th>\n",
       "      <td>91</td>\n",
       "      <td>91</td>\n",
       "      <td>86</td>\n",
       "    </tr>\n",
       "    <tr>\n",
       "      <th>2018 Sales</th>\n",
       "      <td>88</td>\n",
       "      <td>75</td>\n",
       "      <td>80</td>\n",
       "    </tr>\n",
       "    <tr>\n",
       "      <th>2019 Sales</th>\n",
       "      <td>95</td>\n",
       "      <td>83</td>\n",
       "      <td>88</td>\n",
       "    </tr>\n",
       "    <tr>\n",
       "      <th>2020 Sales</th>\n",
       "      <td>66</td>\n",
       "      <td>90</td>\n",
       "      <td>90</td>\n",
       "    </tr>\n",
       "  </tbody>\n",
       "</table>\n",
       "</div>"
      ],
      "text/plain": [
       "            Peter  Louis  Meg\n",
       "2016 Sales     92     84   96\n",
       "2017 Sales     91     91   86\n",
       "2018 Sales     88     75   80\n",
       "2019 Sales     95     83   88\n",
       "2020 Sales     66     90   90"
      ]
     },
     "execution_count": 7,
     "metadata": {},
     "output_type": "execute_result"
    }
   ],
   "source": [
    "sales = pd.DataFrame({\n",
    "    'Peter':[92,91,88,95,66],\n",
    "    'Louis':[84,91,75,83,90],\n",
    "    'Meg':[96,86,80,88,90]\n",
    "},index=['2016 Sales','2017 Sales','2018 Sales','2019 Sales','2020 Sales'])\n",
    "sales"
   ]
  },
  {
   "cell_type": "markdown",
   "metadata": {},
   "source": [
    "Now this looks way better and makes more sense so whenever you wanna use an index rather than the boring numbers ***just pass a list of indices to the index arguments***"
   ]
  },
  {
   "cell_type": "markdown",
   "metadata": {},
   "source": [
    "### Exploring the data\n",
    "\n",
    "When handling data in pandas we're usually looking for specific types of data or let's say \"insights\" so let's take another look into our employees dataframe and let's say we want only employees over some certain age or just the jobs column so let's quickly go over those and how to break down our data"
   ]
  },
  {
   "cell_type": "code",
   "execution_count": 8,
   "metadata": {},
   "outputs": [
    {
     "data": {
      "text/html": [
       "<div>\n",
       "<style scoped>\n",
       "    .dataframe tbody tr th:only-of-type {\n",
       "        vertical-align: middle;\n",
       "    }\n",
       "\n",
       "    .dataframe tbody tr th {\n",
       "        vertical-align: top;\n",
       "    }\n",
       "\n",
       "    .dataframe thead th {\n",
       "        text-align: right;\n",
       "    }\n",
       "</style>\n",
       "<table border=\"1\" class=\"dataframe\">\n",
       "  <thead>\n",
       "    <tr style=\"text-align: right;\">\n",
       "      <th></th>\n",
       "      <th>name</th>\n",
       "      <th>job</th>\n",
       "      <th>age</th>\n",
       "    </tr>\n",
       "  </thead>\n",
       "  <tbody>\n",
       "    <tr>\n",
       "      <th>0</th>\n",
       "      <td>Joe</td>\n",
       "      <td>Data scientist</td>\n",
       "      <td>26</td>\n",
       "    </tr>\n",
       "    <tr>\n",
       "      <th>1</th>\n",
       "      <td>Peter</td>\n",
       "      <td>Python developer</td>\n",
       "      <td>25</td>\n",
       "    </tr>\n",
       "    <tr>\n",
       "      <th>2</th>\n",
       "      <td>Chris</td>\n",
       "      <td>Java developer</td>\n",
       "      <td>31</td>\n",
       "    </tr>\n",
       "    <tr>\n",
       "      <th>3</th>\n",
       "      <td>Quagmire</td>\n",
       "      <td>C developer</td>\n",
       "      <td>29</td>\n",
       "    </tr>\n",
       "  </tbody>\n",
       "</table>\n",
       "</div>"
      ],
      "text/plain": [
       "       name               job  age\n",
       "0       Joe    Data scientist   26\n",
       "1     Peter  Python developer   25\n",
       "2     Chris    Java developer   31\n",
       "3  Quagmire       C developer   29"
      ]
     },
     "execution_count": 8,
     "metadata": {},
     "output_type": "execute_result"
    }
   ],
   "source": [
    "# head() method allows us to retrieve only first five entries in a dataframe \n",
    "employees.head()"
   ]
  },
  {
   "cell_type": "code",
   "execution_count": 11,
   "metadata": {},
   "outputs": [
    {
     "data": {
      "text/html": [
       "<div>\n",
       "<style scoped>\n",
       "    .dataframe tbody tr th:only-of-type {\n",
       "        vertical-align: middle;\n",
       "    }\n",
       "\n",
       "    .dataframe tbody tr th {\n",
       "        vertical-align: top;\n",
       "    }\n",
       "\n",
       "    .dataframe thead th {\n",
       "        text-align: right;\n",
       "    }\n",
       "</style>\n",
       "<table border=\"1\" class=\"dataframe\">\n",
       "  <thead>\n",
       "    <tr style=\"text-align: right;\">\n",
       "      <th></th>\n",
       "      <th>age</th>\n",
       "    </tr>\n",
       "  </thead>\n",
       "  <tbody>\n",
       "    <tr>\n",
       "      <th>count</th>\n",
       "      <td>4.000000</td>\n",
       "    </tr>\n",
       "    <tr>\n",
       "      <th>mean</th>\n",
       "      <td>27.750000</td>\n",
       "    </tr>\n",
       "    <tr>\n",
       "      <th>std</th>\n",
       "      <td>2.753785</td>\n",
       "    </tr>\n",
       "    <tr>\n",
       "      <th>min</th>\n",
       "      <td>25.000000</td>\n",
       "    </tr>\n",
       "    <tr>\n",
       "      <th>25%</th>\n",
       "      <td>25.750000</td>\n",
       "    </tr>\n",
       "    <tr>\n",
       "      <th>50%</th>\n",
       "      <td>27.500000</td>\n",
       "    </tr>\n",
       "    <tr>\n",
       "      <th>75%</th>\n",
       "      <td>29.500000</td>\n",
       "    </tr>\n",
       "    <tr>\n",
       "      <th>max</th>\n",
       "      <td>31.000000</td>\n",
       "    </tr>\n",
       "  </tbody>\n",
       "</table>\n",
       "</div>"
      ],
      "text/plain": [
       "             age\n",
       "count   4.000000\n",
       "mean   27.750000\n",
       "std     2.753785\n",
       "min    25.000000\n",
       "25%    25.750000\n",
       "50%    27.500000\n",
       "75%    29.500000\n",
       "max    31.000000"
      ]
     },
     "execution_count": 11,
     "metadata": {},
     "output_type": "execute_result"
    }
   ],
   "source": [
    "# describe() method provides useful stats about your data and a great way to have an overall view of your data\n",
    "employees.describe() "
   ]
  },
  {
   "cell_type": "code",
   "execution_count": 13,
   "metadata": {},
   "outputs": [
    {
     "data": {
      "text/plain": [
       "31    1\n",
       "29    1\n",
       "26    1\n",
       "25    1\n",
       "Name: age, dtype: int64"
      ]
     },
     "execution_count": 13,
     "metadata": {},
     "output_type": "execute_result"
    }
   ],
   "source": [
    "# For numeric data we use value_counts() to find out how many times did a value happen\n",
    "\n",
    "employees.age.value_counts()"
   ]
  },
  {
   "cell_type": "code",
   "execution_count": 14,
   "metadata": {},
   "outputs": [
    {
     "data": {
      "text/plain": [
       "0      Data scientist\n",
       "1    Python developer\n",
       "2      Java developer\n",
       "3         C developer\n",
       "Name: job, dtype: object"
      ]
     },
     "execution_count": 14,
     "metadata": {},
     "output_type": "execute_result"
    }
   ],
   "source": [
    "# We can also access columns in two ways depending on which one you prefer more\n",
    "# First being by dot notation\n",
    "employees.job"
   ]
  },
  {
   "cell_type": "code",
   "execution_count": 15,
   "metadata": {},
   "outputs": [
    {
     "data": {
      "text/plain": [
       "0      Data scientist\n",
       "1    Python developer\n",
       "2      Java developer\n",
       "3         C developer\n",
       "Name: job, dtype: object"
      ]
     },
     "execution_count": 15,
     "metadata": {},
     "output_type": "execute_result"
    }
   ],
   "source": [
    "#Second being using a pair of square brackets\n",
    "employees['job']"
   ]
  },
  {
   "cell_type": "markdown",
   "metadata": {},
   "source": [
    "### iloc() and loc()\n",
    "\n",
    "The most essential and prime methods of pandas are those two methods, they are used to obtain certain portions of data the way we want them to be \n",
    "\n",
    "- loc() retrieves row-first column-second and works based on labels so we have to provide column names\n",
    "\n",
    "- iloc() is index based locating method so we provide an index of the column we want\n",
    "\n",
    "Examples below"
   ]
  },
  {
   "cell_type": "code",
   "execution_count": 16,
   "metadata": {},
   "outputs": [
    {
     "data": {
      "text/plain": [
       "0    26\n",
       "1    25\n",
       "2    31\n",
       "3    29\n",
       "Name: age, dtype: int64"
      ]
     },
     "execution_count": 16,
     "metadata": {},
     "output_type": "execute_result"
    }
   ],
   "source": [
    "employees.loc[:,'age'] # retrieving only the age column FOR ALL ROWS hence the colon "
   ]
  },
  {
   "cell_type": "code",
   "execution_count": 19,
   "metadata": {},
   "outputs": [
    {
     "data": {
      "text/plain": [
       "0    26\n",
       "1    25\n",
       "2    31\n",
       "Name: age, dtype: int64"
      ]
     },
     "execution_count": 19,
     "metadata": {},
     "output_type": "execute_result"
    }
   ],
   "source": [
    "employees.loc[:2,'age'] # only the first two entries of the age column"
   ]
  },
  {
   "cell_type": "code",
   "execution_count": 20,
   "metadata": {},
   "outputs": [
    {
     "data": {
      "text/html": [
       "<div>\n",
       "<style scoped>\n",
       "    .dataframe tbody tr th:only-of-type {\n",
       "        vertical-align: middle;\n",
       "    }\n",
       "\n",
       "    .dataframe tbody tr th {\n",
       "        vertical-align: top;\n",
       "    }\n",
       "\n",
       "    .dataframe thead th {\n",
       "        text-align: right;\n",
       "    }\n",
       "</style>\n",
       "<table border=\"1\" class=\"dataframe\">\n",
       "  <thead>\n",
       "    <tr style=\"text-align: right;\">\n",
       "      <th></th>\n",
       "      <th>age</th>\n",
       "      <th>job</th>\n",
       "    </tr>\n",
       "  </thead>\n",
       "  <tbody>\n",
       "    <tr>\n",
       "      <th>0</th>\n",
       "      <td>26</td>\n",
       "      <td>Data scientist</td>\n",
       "    </tr>\n",
       "    <tr>\n",
       "      <th>1</th>\n",
       "      <td>25</td>\n",
       "      <td>Python developer</td>\n",
       "    </tr>\n",
       "    <tr>\n",
       "      <th>2</th>\n",
       "      <td>31</td>\n",
       "      <td>Java developer</td>\n",
       "    </tr>\n",
       "    <tr>\n",
       "      <th>3</th>\n",
       "      <td>29</td>\n",
       "      <td>C developer</td>\n",
       "    </tr>\n",
       "  </tbody>\n",
       "</table>\n",
       "</div>"
      ],
      "text/plain": [
       "   age               job\n",
       "0   26    Data scientist\n",
       "1   25  Python developer\n",
       "2   31    Java developer\n",
       "3   29       C developer"
      ]
     },
     "execution_count": 20,
     "metadata": {},
     "output_type": "execute_result"
    }
   ],
   "source": [
    "employees.loc[:,['age','job']] # passing a list of columns to be retrieved"
   ]
  },
  {
   "cell_type": "code",
   "execution_count": 23,
   "metadata": {},
   "outputs": [
    {
     "data": {
      "text/html": [
       "<div>\n",
       "<style scoped>\n",
       "    .dataframe tbody tr th:only-of-type {\n",
       "        vertical-align: middle;\n",
       "    }\n",
       "\n",
       "    .dataframe tbody tr th {\n",
       "        vertical-align: top;\n",
       "    }\n",
       "\n",
       "    .dataframe thead th {\n",
       "        text-align: right;\n",
       "    }\n",
       "</style>\n",
       "<table border=\"1\" class=\"dataframe\">\n",
       "  <thead>\n",
       "    <tr style=\"text-align: right;\">\n",
       "      <th></th>\n",
       "      <th>age</th>\n",
       "      <th>job</th>\n",
       "    </tr>\n",
       "  </thead>\n",
       "  <tbody>\n",
       "    <tr>\n",
       "      <th>0</th>\n",
       "      <td>26</td>\n",
       "      <td>Data scientist</td>\n",
       "    </tr>\n",
       "    <tr>\n",
       "      <th>1</th>\n",
       "      <td>25</td>\n",
       "      <td>Python developer</td>\n",
       "    </tr>\n",
       "    <tr>\n",
       "      <th>2</th>\n",
       "      <td>31</td>\n",
       "      <td>Java developer</td>\n",
       "    </tr>\n",
       "  </tbody>\n",
       "</table>\n",
       "</div>"
      ],
      "text/plain": [
       "   age               job\n",
       "0   26    Data scientist\n",
       "1   25  Python developer\n",
       "2   31    Java developer"
      ]
     },
     "execution_count": 23,
     "metadata": {},
     "output_type": "execute_result"
    }
   ],
   "source": [
    "employees.loc[:2,['age','job']] # first two rows of the selected columns"
   ]
  },
  {
   "cell_type": "code",
   "execution_count": 24,
   "metadata": {},
   "outputs": [
    {
     "data": {
      "text/plain": [
       "0         Joe\n",
       "1       Peter\n",
       "2       Chris\n",
       "3    Quagmire\n",
       "Name: name, dtype: object"
      ]
     },
     "execution_count": 24,
     "metadata": {},
     "output_type": "execute_result"
    }
   ],
   "source": [
    "employees.iloc[:,0] # using iloc() to retrieve all rows of the column with index 0"
   ]
  },
  {
   "cell_type": "code",
   "execution_count": 26,
   "metadata": {},
   "outputs": [
    {
     "data": {
      "text/html": [
       "<div>\n",
       "<style scoped>\n",
       "    .dataframe tbody tr th:only-of-type {\n",
       "        vertical-align: middle;\n",
       "    }\n",
       "\n",
       "    .dataframe tbody tr th {\n",
       "        vertical-align: top;\n",
       "    }\n",
       "\n",
       "    .dataframe thead th {\n",
       "        text-align: right;\n",
       "    }\n",
       "</style>\n",
       "<table border=\"1\" class=\"dataframe\">\n",
       "  <thead>\n",
       "    <tr style=\"text-align: right;\">\n",
       "      <th></th>\n",
       "      <th>name</th>\n",
       "      <th>job</th>\n",
       "    </tr>\n",
       "  </thead>\n",
       "  <tbody>\n",
       "    <tr>\n",
       "      <th>0</th>\n",
       "      <td>Joe</td>\n",
       "      <td>Data scientist</td>\n",
       "    </tr>\n",
       "    <tr>\n",
       "      <th>1</th>\n",
       "      <td>Peter</td>\n",
       "      <td>Python developer</td>\n",
       "    </tr>\n",
       "    <tr>\n",
       "      <th>2</th>\n",
       "      <td>Chris</td>\n",
       "      <td>Java developer</td>\n",
       "    </tr>\n",
       "    <tr>\n",
       "      <th>3</th>\n",
       "      <td>Quagmire</td>\n",
       "      <td>C developer</td>\n",
       "    </tr>\n",
       "  </tbody>\n",
       "</table>\n",
       "</div>"
      ],
      "text/plain": [
       "       name               job\n",
       "0       Joe    Data scientist\n",
       "1     Peter  Python developer\n",
       "2     Chris    Java developer\n",
       "3  Quagmire       C developer"
      ]
     },
     "execution_count": 26,
     "metadata": {},
     "output_type": "execute_result"
    }
   ],
   "source": [
    "employees.iloc[:,[0,1]] # passig a list of indices of columns "
   ]
  },
  {
   "cell_type": "markdown",
   "metadata": {},
   "source": [
    "### Creating your first series\n",
    "\n",
    "A series is basically a column of data we can create in pandas and a group of series make up a dataframe\n",
    "\n",
    "***how to create a series***"
   ]
  },
  {
   "cell_type": "code",
   "execution_count": 27,
   "metadata": {},
   "outputs": [
    {
     "data": {
      "text/plain": [
       "0    21\n",
       "1    25\n",
       "2    26\n",
       "3    24\n",
       "4    29\n",
       "5    31\n",
       "dtype: int64"
      ]
     },
     "execution_count": 27,
     "metadata": {},
     "output_type": "execute_result"
    }
   ],
   "source": [
    "temp = pd.Series([21,25,26,24,29,31])\n",
    "temp"
   ]
  },
  {
   "cell_type": "code",
   "execution_count": 28,
   "metadata": {},
   "outputs": [
    {
     "data": {
      "text/plain": [
       "sunday       21\n",
       "monday       25\n",
       "tuesday      26\n",
       "wednesday    24\n",
       "thursday     29\n",
       "friday       31\n",
       "dtype: int64"
      ]
     },
     "execution_count": 28,
     "metadata": {},
     "output_type": "execute_result"
    }
   ],
   "source": [
    "# we can also use an index or a list of indices with our series\n",
    "\n",
    "temp = pd.Series([21,25,26,24,29,31],index=['sunday','monday','tuesday','wednesday','thursday','friday'])\n",
    "temp"
   ]
  },
  {
   "cell_type": "markdown",
   "metadata": {},
   "source": [
    "We'll focus on dataframes mostly and in the next cell we'll import our first real life dataset from the web so you better be excited"
   ]
  },
  {
   "cell_type": "markdown",
   "metadata": {},
   "source": [
    "### Real life dataset\n",
    "\n",
    "Real data science projects make use of real life datasets to conduct analysis and other operations on them and for this task we're going to be using a dataset i found on [this repo](https://github.com/fivethirtyeight/data) which is a list of movies by Tarantino with the most swear words and do some advanced operations on them"
   ]
  },
  {
   "cell_type": "code",
   "execution_count": 3,
   "metadata": {},
   "outputs": [
    {
     "data": {
      "text/html": [
       "<div>\n",
       "<style scoped>\n",
       "    .dataframe tbody tr th:only-of-type {\n",
       "        vertical-align: middle;\n",
       "    }\n",
       "\n",
       "    .dataframe tbody tr th {\n",
       "        vertical-align: top;\n",
       "    }\n",
       "\n",
       "    .dataframe thead th {\n",
       "        text-align: right;\n",
       "    }\n",
       "</style>\n",
       "<table border=\"1\" class=\"dataframe\">\n",
       "  <thead>\n",
       "    <tr style=\"text-align: right;\">\n",
       "      <th></th>\n",
       "      <th>movie</th>\n",
       "      <th>type</th>\n",
       "      <th>word</th>\n",
       "      <th>minutes_in</th>\n",
       "    </tr>\n",
       "  </thead>\n",
       "  <tbody>\n",
       "    <tr>\n",
       "      <th>0</th>\n",
       "      <td>Reservoir Dogs</td>\n",
       "      <td>word</td>\n",
       "      <td>dick</td>\n",
       "      <td>0.40</td>\n",
       "    </tr>\n",
       "    <tr>\n",
       "      <th>1</th>\n",
       "      <td>Reservoir Dogs</td>\n",
       "      <td>word</td>\n",
       "      <td>dicks</td>\n",
       "      <td>0.43</td>\n",
       "    </tr>\n",
       "    <tr>\n",
       "      <th>2</th>\n",
       "      <td>Reservoir Dogs</td>\n",
       "      <td>word</td>\n",
       "      <td>fucked</td>\n",
       "      <td>0.55</td>\n",
       "    </tr>\n",
       "    <tr>\n",
       "      <th>3</th>\n",
       "      <td>Reservoir Dogs</td>\n",
       "      <td>word</td>\n",
       "      <td>fucking</td>\n",
       "      <td>0.61</td>\n",
       "    </tr>\n",
       "    <tr>\n",
       "      <th>4</th>\n",
       "      <td>Reservoir Dogs</td>\n",
       "      <td>word</td>\n",
       "      <td>bullshit</td>\n",
       "      <td>0.61</td>\n",
       "    </tr>\n",
       "  </tbody>\n",
       "</table>\n",
       "</div>"
      ],
      "text/plain": [
       "            movie  type      word  minutes_in\n",
       "0  Reservoir Dogs  word      dick        0.40\n",
       "1  Reservoir Dogs  word     dicks        0.43\n",
       "2  Reservoir Dogs  word    fucked        0.55\n",
       "3  Reservoir Dogs  word   fucking        0.61\n",
       "4  Reservoir Dogs  word  bullshit        0.61"
      ]
     },
     "execution_count": 3,
     "metadata": {},
     "output_type": "execute_result"
    }
   ],
   "source": [
    "films = pd.read_csv(r\"data/tarantino.csv\") #link to the csv file\n",
    "films.head()"
   ]
  },
  {
   "cell_type": "markdown",
   "metadata": {},
   "source": [
    "### Advanced selection and sorting\n",
    "\n",
    "First thing we will do is learn how to perform advanced selection for more accurate results from our data, let's say we want a unique listing of the movies included in the dataset, to do so we use the method `unique()` as the example below"
   ]
  },
  {
   "cell_type": "code",
   "execution_count": 4,
   "metadata": {},
   "outputs": [
    {
     "data": {
      "text/plain": [
       "array(['Reservoir Dogs', 'Pulp Fiction', 'Kill Bill: Vol. 1',\n",
       "       'Kill Bill: Vol. 2', 'Inglorious Basterds', 'Django Unchained',\n",
       "       'Jackie Brown'], dtype=object)"
      ]
     },
     "execution_count": 4,
     "metadata": {},
     "output_type": "execute_result"
    }
   ],
   "source": [
    "films.movie.unique()"
   ]
  },
  {
   "cell_type": "markdown",
   "metadata": {},
   "source": [
    "These following examples will only try to show you ways of using an if statement in your selection and also chained conditions"
   ]
  },
  {
   "cell_type": "code",
   "execution_count": 5,
   "metadata": {},
   "outputs": [
    {
     "data": {
      "text/html": [
       "<div>\n",
       "<style scoped>\n",
       "    .dataframe tbody tr th:only-of-type {\n",
       "        vertical-align: middle;\n",
       "    }\n",
       "\n",
       "    .dataframe tbody tr th {\n",
       "        vertical-align: top;\n",
       "    }\n",
       "\n",
       "    .dataframe thead th {\n",
       "        text-align: right;\n",
       "    }\n",
       "</style>\n",
       "<table border=\"1\" class=\"dataframe\">\n",
       "  <thead>\n",
       "    <tr style=\"text-align: right;\">\n",
       "      <th></th>\n",
       "      <th>movie</th>\n",
       "      <th>type</th>\n",
       "      <th>word</th>\n",
       "      <th>minutes_in</th>\n",
       "    </tr>\n",
       "  </thead>\n",
       "  <tbody>\n",
       "    <tr>\n",
       "      <th>1213</th>\n",
       "      <td>Django Unchained</td>\n",
       "      <td>word</td>\n",
       "      <td>goddamn</td>\n",
       "      <td>7.23</td>\n",
       "    </tr>\n",
       "    <tr>\n",
       "      <th>1215</th>\n",
       "      <td>Django Unchained</td>\n",
       "      <td>word</td>\n",
       "      <td>goddamn</td>\n",
       "      <td>8.37</td>\n",
       "    </tr>\n",
       "    <tr>\n",
       "      <th>1216</th>\n",
       "      <td>Django Unchained</td>\n",
       "      <td>word</td>\n",
       "      <td>bitch</td>\n",
       "      <td>8.38</td>\n",
       "    </tr>\n",
       "    <tr>\n",
       "      <th>1217</th>\n",
       "      <td>Django Unchained</td>\n",
       "      <td>word</td>\n",
       "      <td>damn</td>\n",
       "      <td>8.65</td>\n",
       "    </tr>\n",
       "    <tr>\n",
       "      <th>1218</th>\n",
       "      <td>Django Unchained</td>\n",
       "      <td>word</td>\n",
       "      <td>fucking</td>\n",
       "      <td>8.87</td>\n",
       "    </tr>\n",
       "    <tr>\n",
       "      <th>...</th>\n",
       "      <td>...</td>\n",
       "      <td>...</td>\n",
       "      <td>...</td>\n",
       "      <td>...</td>\n",
       "    </tr>\n",
       "    <tr>\n",
       "      <th>1516</th>\n",
       "      <td>Django Unchained</td>\n",
       "      <td>word</td>\n",
       "      <td>n-word</td>\n",
       "      <td>159.80</td>\n",
       "    </tr>\n",
       "    <tr>\n",
       "      <th>1517</th>\n",
       "      <td>Django Unchained</td>\n",
       "      <td>word</td>\n",
       "      <td>fucked</td>\n",
       "      <td>159.83</td>\n",
       "    </tr>\n",
       "    <tr>\n",
       "      <th>1518</th>\n",
       "      <td>Django Unchained</td>\n",
       "      <td>word</td>\n",
       "      <td>n-word</td>\n",
       "      <td>159.88</td>\n",
       "    </tr>\n",
       "    <tr>\n",
       "      <th>1519</th>\n",
       "      <td>Django Unchained</td>\n",
       "      <td>word</td>\n",
       "      <td>n-word</td>\n",
       "      <td>160.20</td>\n",
       "    </tr>\n",
       "    <tr>\n",
       "      <th>1520</th>\n",
       "      <td>Django Unchained</td>\n",
       "      <td>word</td>\n",
       "      <td>ass</td>\n",
       "      <td>160.28</td>\n",
       "    </tr>\n",
       "  </tbody>\n",
       "</table>\n",
       "<p>262 rows × 4 columns</p>\n",
       "</div>"
      ],
      "text/plain": [
       "                 movie  type     word  minutes_in\n",
       "1213  Django Unchained  word  goddamn        7.23\n",
       "1215  Django Unchained  word  goddamn        8.37\n",
       "1216  Django Unchained  word    bitch        8.38\n",
       "1217  Django Unchained  word     damn        8.65\n",
       "1218  Django Unchained  word  fucking        8.87\n",
       "...                ...   ...      ...         ...\n",
       "1516  Django Unchained  word  n-word       159.80\n",
       "1517  Django Unchained  word   fucked      159.83\n",
       "1518  Django Unchained  word  n-word       159.88\n",
       "1519  Django Unchained  word  n-word       160.20\n",
       "1520  Django Unchained  word      ass      160.28\n",
       "\n",
       "[262 rows x 4 columns]"
      ]
     },
     "execution_count": 5,
     "metadata": {},
     "output_type": "execute_result"
    }
   ],
   "source": [
    "films.loc[(films.movie=='Django Unchained') & (films.type == 'word')]"
   ]
  },
  {
   "cell_type": "code",
   "execution_count": 36,
   "metadata": {},
   "outputs": [
    {
     "data": {
      "text/plain": [
       "1521    160.45\n",
       "1520    160.28\n",
       "1519    160.20\n",
       "1518    159.88\n",
       "1517    159.83\n",
       "         ...  \n",
       "3         0.61\n",
       "2         0.55\n",
       "431       0.52\n",
       "1         0.43\n",
       "0         0.40\n",
       "Name: minutes_in, Length: 1894, dtype: float64"
      ]
     },
     "execution_count": 36,
     "metadata": {},
     "output_type": "execute_result"
    }
   ],
   "source": [
    "films.minutes_in.sort_values(ascending = False) # SORTING A SERIES"
   ]
  },
  {
   "cell_type": "markdown",
   "metadata": {},
   "source": [
    "### apply and map\n",
    "\n",
    "We use `map()` on a series to help us run a function on it like in this example below "
   ]
  },
  {
   "cell_type": "code",
   "execution_count": 40,
   "metadata": {},
   "outputs": [
    {
     "data": {
      "text/plain": [
       "0        True\n",
       "1        True\n",
       "2        True\n",
       "3        True\n",
       "4        True\n",
       "        ...  \n",
       "1889     True\n",
       "1890     True\n",
       "1891     True\n",
       "1892     True\n",
       "1893    False\n",
       "Name: type, Length: 1894, dtype: bool"
      ]
     },
     "execution_count": 40,
     "metadata": {},
     "output_type": "execute_result"
    }
   ],
   "source": [
    "films.type.map(lambda x:x == 'word')"
   ]
  },
  {
   "cell_type": "markdown",
   "metadata": {},
   "source": [
    "We use `apply()` to run a function on an entire dataframe"
   ]
  },
  {
   "cell_type": "code",
   "execution_count": 45,
   "metadata": {},
   "outputs": [
    {
     "data": {
      "text/html": [
       "<div>\n",
       "<style scoped>\n",
       "    .dataframe tbody tr th:only-of-type {\n",
       "        vertical-align: middle;\n",
       "    }\n",
       "\n",
       "    .dataframe tbody tr th {\n",
       "        vertical-align: top;\n",
       "    }\n",
       "\n",
       "    .dataframe thead th {\n",
       "        text-align: right;\n",
       "    }\n",
       "</style>\n",
       "<table border=\"1\" class=\"dataframe\">\n",
       "  <thead>\n",
       "    <tr style=\"text-align: right;\">\n",
       "      <th></th>\n",
       "      <th>movie</th>\n",
       "      <th>type</th>\n",
       "      <th>word</th>\n",
       "      <th>minutes_in</th>\n",
       "    </tr>\n",
       "  </thead>\n",
       "  <tbody>\n",
       "    <tr>\n",
       "      <th>0</th>\n",
       "      <td>Reservoir Dogs</td>\n",
       "      <td>some_value</td>\n",
       "      <td>dick</td>\n",
       "      <td>0.40</td>\n",
       "    </tr>\n",
       "    <tr>\n",
       "      <th>1</th>\n",
       "      <td>Reservoir Dogs</td>\n",
       "      <td>some_value</td>\n",
       "      <td>dicks</td>\n",
       "      <td>0.43</td>\n",
       "    </tr>\n",
       "    <tr>\n",
       "      <th>2</th>\n",
       "      <td>Reservoir Dogs</td>\n",
       "      <td>some_value</td>\n",
       "      <td>fucked</td>\n",
       "      <td>0.55</td>\n",
       "    </tr>\n",
       "    <tr>\n",
       "      <th>3</th>\n",
       "      <td>Reservoir Dogs</td>\n",
       "      <td>some_value</td>\n",
       "      <td>fucking</td>\n",
       "      <td>0.61</td>\n",
       "    </tr>\n",
       "    <tr>\n",
       "      <th>4</th>\n",
       "      <td>Reservoir Dogs</td>\n",
       "      <td>some_value</td>\n",
       "      <td>bullshit</td>\n",
       "      <td>0.61</td>\n",
       "    </tr>\n",
       "    <tr>\n",
       "      <th>...</th>\n",
       "      <td>...</td>\n",
       "      <td>...</td>\n",
       "      <td>...</td>\n",
       "      <td>...</td>\n",
       "    </tr>\n",
       "    <tr>\n",
       "      <th>1889</th>\n",
       "      <td>Jackie Brown</td>\n",
       "      <td>some_value</td>\n",
       "      <td>motherfucker</td>\n",
       "      <td>141.93</td>\n",
       "    </tr>\n",
       "    <tr>\n",
       "      <th>1890</th>\n",
       "      <td>Jackie Brown</td>\n",
       "      <td>some_value</td>\n",
       "      <td>ass</td>\n",
       "      <td>142.43</td>\n",
       "    </tr>\n",
       "    <tr>\n",
       "      <th>1891</th>\n",
       "      <td>Jackie Brown</td>\n",
       "      <td>some_value</td>\n",
       "      <td>fucking</td>\n",
       "      <td>142.47</td>\n",
       "    </tr>\n",
       "    <tr>\n",
       "      <th>1892</th>\n",
       "      <td>Jackie Brown</td>\n",
       "      <td>some_value</td>\n",
       "      <td>goddamn</td>\n",
       "      <td>142.97</td>\n",
       "    </tr>\n",
       "    <tr>\n",
       "      <th>1893</th>\n",
       "      <td>Jackie Brown</td>\n",
       "      <td>some_value</td>\n",
       "      <td>NaN</td>\n",
       "      <td>143.13</td>\n",
       "    </tr>\n",
       "  </tbody>\n",
       "</table>\n",
       "<p>1894 rows × 4 columns</p>\n",
       "</div>"
      ],
      "text/plain": [
       "               movie        type          word  minutes_in\n",
       "0     Reservoir Dogs  some_value          dick        0.40\n",
       "1     Reservoir Dogs  some_value         dicks        0.43\n",
       "2     Reservoir Dogs  some_value        fucked        0.55\n",
       "3     Reservoir Dogs  some_value       fucking        0.61\n",
       "4     Reservoir Dogs  some_value      bullshit        0.61\n",
       "...              ...         ...           ...         ...\n",
       "1889    Jackie Brown  some_value  motherfucker      141.93\n",
       "1890    Jackie Brown  some_value           ass      142.43\n",
       "1891    Jackie Brown  some_value       fucking      142.47\n",
       "1892    Jackie Brown  some_value       goddamn      142.97\n",
       "1893    Jackie Brown  some_value           NaN      143.13\n",
       "\n",
       "[1894 rows x 4 columns]"
      ]
     },
     "execution_count": 45,
     "metadata": {},
     "output_type": "execute_result"
    }
   ],
   "source": [
    "def new_value(df):\n",
    "    df.type = 'some_value'\n",
    "    return df\n",
    "\n",
    "films.apply(new_value,axis = 'columns') # we changed the entire 'type' column into a new value we specified"
   ]
  },
  {
   "cell_type": "code",
   "execution_count": 46,
   "metadata": {},
   "outputs": [
    {
     "data": {
      "text/html": [
       "<div>\n",
       "<style scoped>\n",
       "    .dataframe tbody tr th:only-of-type {\n",
       "        vertical-align: middle;\n",
       "    }\n",
       "\n",
       "    .dataframe tbody tr th {\n",
       "        vertical-align: top;\n",
       "    }\n",
       "\n",
       "    .dataframe thead th {\n",
       "        text-align: right;\n",
       "    }\n",
       "</style>\n",
       "<table border=\"1\" class=\"dataframe\">\n",
       "  <thead>\n",
       "    <tr style=\"text-align: right;\">\n",
       "      <th></th>\n",
       "      <th>movie</th>\n",
       "      <th>type</th>\n",
       "      <th>word</th>\n",
       "      <th>minutes_in</th>\n",
       "    </tr>\n",
       "  </thead>\n",
       "  <tbody>\n",
       "    <tr>\n",
       "      <th>0</th>\n",
       "      <td>Reservoir Dogs</td>\n",
       "      <td>word</td>\n",
       "      <td>dick</td>\n",
       "      <td>early</td>\n",
       "    </tr>\n",
       "    <tr>\n",
       "      <th>1</th>\n",
       "      <td>Reservoir Dogs</td>\n",
       "      <td>word</td>\n",
       "      <td>dicks</td>\n",
       "      <td>early</td>\n",
       "    </tr>\n",
       "    <tr>\n",
       "      <th>2</th>\n",
       "      <td>Reservoir Dogs</td>\n",
       "      <td>word</td>\n",
       "      <td>fucked</td>\n",
       "      <td>early</td>\n",
       "    </tr>\n",
       "    <tr>\n",
       "      <th>3</th>\n",
       "      <td>Reservoir Dogs</td>\n",
       "      <td>word</td>\n",
       "      <td>fucking</td>\n",
       "      <td>early</td>\n",
       "    </tr>\n",
       "    <tr>\n",
       "      <th>4</th>\n",
       "      <td>Reservoir Dogs</td>\n",
       "      <td>word</td>\n",
       "      <td>bullshit</td>\n",
       "      <td>early</td>\n",
       "    </tr>\n",
       "    <tr>\n",
       "      <th>...</th>\n",
       "      <td>...</td>\n",
       "      <td>...</td>\n",
       "      <td>...</td>\n",
       "      <td>...</td>\n",
       "    </tr>\n",
       "    <tr>\n",
       "      <th>1889</th>\n",
       "      <td>Jackie Brown</td>\n",
       "      <td>word</td>\n",
       "      <td>motherfucker</td>\n",
       "      <td>later</td>\n",
       "    </tr>\n",
       "    <tr>\n",
       "      <th>1890</th>\n",
       "      <td>Jackie Brown</td>\n",
       "      <td>word</td>\n",
       "      <td>ass</td>\n",
       "      <td>later</td>\n",
       "    </tr>\n",
       "    <tr>\n",
       "      <th>1891</th>\n",
       "      <td>Jackie Brown</td>\n",
       "      <td>word</td>\n",
       "      <td>fucking</td>\n",
       "      <td>later</td>\n",
       "    </tr>\n",
       "    <tr>\n",
       "      <th>1892</th>\n",
       "      <td>Jackie Brown</td>\n",
       "      <td>word</td>\n",
       "      <td>goddamn</td>\n",
       "      <td>later</td>\n",
       "    </tr>\n",
       "    <tr>\n",
       "      <th>1893</th>\n",
       "      <td>Jackie Brown</td>\n",
       "      <td>death</td>\n",
       "      <td>NaN</td>\n",
       "      <td>later</td>\n",
       "    </tr>\n",
       "  </tbody>\n",
       "</table>\n",
       "<p>1894 rows × 4 columns</p>\n",
       "</div>"
      ],
      "text/plain": [
       "               movie   type          word minutes_in\n",
       "0     Reservoir Dogs   word          dick      early\n",
       "1     Reservoir Dogs   word         dicks      early\n",
       "2     Reservoir Dogs   word        fucked      early\n",
       "3     Reservoir Dogs   word       fucking      early\n",
       "4     Reservoir Dogs   word      bullshit      early\n",
       "...              ...    ...           ...        ...\n",
       "1889    Jackie Brown   word  motherfucker      later\n",
       "1890    Jackie Brown   word           ass      later\n",
       "1891    Jackie Brown   word       fucking      later\n",
       "1892    Jackie Brown   word       goddamn      later\n",
       "1893    Jackie Brown  death           NaN      later\n",
       "\n",
       "[1894 rows x 4 columns]"
      ]
     },
     "execution_count": 46,
     "metadata": {},
     "output_type": "execute_result"
    }
   ],
   "source": [
    "def when_did_it_happen(row):\n",
    "    if row.minutes_in >= 0 and row.minutes_in <= 50:\n",
    "        row.minutes_in = 'early'\n",
    "    elif row.minutes_in == 50 and row.minutes_in <= 100:\n",
    "        row.minutes_in = 'halfway through'\n",
    "    else:\n",
    "        row.minutes_in = 'later'\n",
    "    return row\n",
    "\n",
    "films.apply(when_did_it_happen,axis='columns')"
   ]
  },
  {
   "cell_type": "markdown",
   "metadata": {},
   "source": [
    "### Grouping data\n",
    "\n",
    "Pandas allows us to group data together so we can extract useful info regarding those grouped items only, for example we're going to group a movie and a type together then will use a method called `agg()` on the `minutes_in` column which can take a list of functions to apply them to the grouped dataframe to find out each type of event that happened and when"
   ]
  },
  {
   "cell_type": "code",
   "execution_count": 47,
   "metadata": {},
   "outputs": [
    {
     "data": {
      "text/html": [
       "<div>\n",
       "<style scoped>\n",
       "    .dataframe tbody tr th:only-of-type {\n",
       "        vertical-align: middle;\n",
       "    }\n",
       "\n",
       "    .dataframe tbody tr th {\n",
       "        vertical-align: top;\n",
       "    }\n",
       "\n",
       "    .dataframe thead th {\n",
       "        text-align: right;\n",
       "    }\n",
       "</style>\n",
       "<table border=\"1\" class=\"dataframe\">\n",
       "  <thead>\n",
       "    <tr style=\"text-align: right;\">\n",
       "      <th></th>\n",
       "      <th></th>\n",
       "      <th>min</th>\n",
       "      <th>max</th>\n",
       "    </tr>\n",
       "    <tr>\n",
       "      <th>movie</th>\n",
       "      <th>type</th>\n",
       "      <th></th>\n",
       "      <th></th>\n",
       "    </tr>\n",
       "  </thead>\n",
       "  <tbody>\n",
       "    <tr>\n",
       "      <th rowspan=\"2\" valign=\"top\">Django Unchained</th>\n",
       "      <th>death</th>\n",
       "      <td>7.75</td>\n",
       "      <td>160.45</td>\n",
       "    </tr>\n",
       "    <tr>\n",
       "      <th>word</th>\n",
       "      <td>7.23</td>\n",
       "      <td>160.28</td>\n",
       "    </tr>\n",
       "    <tr>\n",
       "      <th rowspan=\"2\" valign=\"top\">Inglorious Basterds</th>\n",
       "      <th>death</th>\n",
       "      <td>20.35</td>\n",
       "      <td>147.37</td>\n",
       "    </tr>\n",
       "    <tr>\n",
       "      <th>word</th>\n",
       "      <td>22.20</td>\n",
       "      <td>148.73</td>\n",
       "    </tr>\n",
       "    <tr>\n",
       "      <th rowspan=\"2\" valign=\"top\">Jackie Brown</th>\n",
       "      <th>death</th>\n",
       "      <td>23.08</td>\n",
       "      <td>143.13</td>\n",
       "    </tr>\n",
       "    <tr>\n",
       "      <th>word</th>\n",
       "      <td>4.38</td>\n",
       "      <td>142.97</td>\n",
       "    </tr>\n",
       "    <tr>\n",
       "      <th rowspan=\"2\" valign=\"top\">Kill Bill: Vol. 1</th>\n",
       "      <th>death</th>\n",
       "      <td>13.53</td>\n",
       "      <td>97.60</td>\n",
       "    </tr>\n",
       "    <tr>\n",
       "      <th>word</th>\n",
       "      <td>7.12</td>\n",
       "      <td>100.10</td>\n",
       "    </tr>\n",
       "    <tr>\n",
       "      <th rowspan=\"2\" valign=\"top\">Kill Bill: Vol. 2</th>\n",
       "      <th>death</th>\n",
       "      <td>14.38</td>\n",
       "      <td>121.12</td>\n",
       "    </tr>\n",
       "    <tr>\n",
       "      <th>word</th>\n",
       "      <td>1.18</td>\n",
       "      <td>119.58</td>\n",
       "    </tr>\n",
       "    <tr>\n",
       "      <th rowspan=\"2\" valign=\"top\">Pulp Fiction</th>\n",
       "      <th>death</th>\n",
       "      <td>18.70</td>\n",
       "      <td>116.08</td>\n",
       "    </tr>\n",
       "    <tr>\n",
       "      <th>word</th>\n",
       "      <td>0.52</td>\n",
       "      <td>148.15</td>\n",
       "    </tr>\n",
       "    <tr>\n",
       "      <th rowspan=\"2\" valign=\"top\">Reservoir Dogs</th>\n",
       "      <th>death</th>\n",
       "      <td>59.93</td>\n",
       "      <td>95.40</td>\n",
       "    </tr>\n",
       "    <tr>\n",
       "      <th>word</th>\n",
       "      <td>0.40</td>\n",
       "      <td>95.33</td>\n",
       "    </tr>\n",
       "  </tbody>\n",
       "</table>\n",
       "</div>"
      ],
      "text/plain": [
       "                             min     max\n",
       "movie               type                \n",
       "Django Unchained    death   7.75  160.45\n",
       "                    word    7.23  160.28\n",
       "Inglorious Basterds death  20.35  147.37\n",
       "                    word   22.20  148.73\n",
       "Jackie Brown        death  23.08  143.13\n",
       "                    word    4.38  142.97\n",
       "Kill Bill: Vol. 1   death  13.53   97.60\n",
       "                    word    7.12  100.10\n",
       "Kill Bill: Vol. 2   death  14.38  121.12\n",
       "                    word    1.18  119.58\n",
       "Pulp Fiction        death  18.70  116.08\n",
       "                    word    0.52  148.15\n",
       "Reservoir Dogs      death  59.93   95.40\n",
       "                    word    0.40   95.33"
      ]
     },
     "execution_count": 47,
     "metadata": {},
     "output_type": "execute_result"
    }
   ],
   "source": [
    "films.groupby(['movie','type']).minutes_in.agg(['min','max'])"
   ]
  }
 ],
 "metadata": {
  "kernelspec": {
   "display_name": "Python 3",
   "language": "python",
   "name": "python3"
  },
  "language_info": {
   "codemirror_mode": {
    "name": "ipython",
    "version": 3
   },
   "file_extension": ".py",
   "mimetype": "text/x-python",
   "name": "python",
   "nbconvert_exporter": "python",
   "pygments_lexer": "ipython3",
   "version": "3.8.3"
  }
 },
 "nbformat": 4,
 "nbformat_minor": 4
}
