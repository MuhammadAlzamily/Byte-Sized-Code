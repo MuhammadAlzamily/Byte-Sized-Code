{
 "cells": [
  {
   "cell_type": "markdown",
   "metadata": {},
   "source": [
    "# OOP IN PYTHON  \n",
    "**By Muhammad Kareem**\n",
    "\n",
    "\n",
    "\n",
    "### What is OOP ?\n",
    "\n",
    "OOP or object-oriented programming is a programming paradigm that helps software developers create more maintainable and scalable\n",
    "\n",
    "### Why OOP ?\n",
    "\n",
    "As mentioned above, this paradigm solves many problems in writing software as it creates like a \"template\" which other components can use and this helps reduce code and make it easier to maintain and debug if anything goes wrong\n",
    "\n",
    "### Features of OOP\n",
    "\n",
    "1. Encapsulation \n",
    "Encapsulation refers to the creation of self-contained modules that bind processing functions to the data. These user-defined data types are called \"classes,\" and one instance of a class is an \"object.\" For example, in a payroll system, a class could be Manager, and Pat and Jan could be two instances (two objects) of the Manager class. Encapsulation ensures good code modularity, which keeps routines separate and less prone to conflict with each other.\n",
    "\n",
    "\n",
    "2. Inheritance\n",
    "Classes are created in hierarchies, and inheritance allows the structure and methods in one class to be passed down the hierarchy. That means less programming is required when adding functions to complex systems. If a step is added at the bottom of a hierarchy, only the processing and data associated with that unique step needs to be added. Everything else is inherited. The ability to reuse existing objects is considered a major advantage of object technology.\n",
    "\n",
    "\n",
    "3. Polymorphism\n",
    "Object-oriented programming allows procedures about objects to be created whose exact type is not known until runtime. For example, a screen cursor may change its shape from an arrow to a line depending on the program mode. The routine to move the cursor on screen in response to mouse movement would be written for \"cursor,\" and polymorphism allows that cursor to take on whatever shape is required at runtime. It also allows new shapes to be easily integrated."
   ]
  },
  {
   "cell_type": "code",
   "execution_count": 3,
   "metadata": {},
   "outputs": [
    {
     "data": {
      "text/plain": [
       "'Clark can fly now'"
      ]
     },
     "execution_count": 3,
     "metadata": {},
     "output_type": "execute_result"
    }
   ],
   "source": [
    "# AN EXAMPLE OF OOP\n",
    "\n",
    "class superman:\n",
    "    def __init__(self,name,age,job):\n",
    "        self.name = name\n",
    "        self.age = age\n",
    "        self.job = job\n",
    "    \n",
    "    def fly(self):\n",
    "        return f\"{self.name} can fly now\"\n",
    "    \n",
    "    def lift_heavy_stuff(self,item):\n",
    "        return f\"{self.name} is now carrying an entire {item}!\"\n",
    "\n",
    "clark = superman('Clark',33,'journalist')\n",
    "clark.fly()"
   ]
  },
  {
   "cell_type": "code",
   "execution_count": 4,
   "metadata": {},
   "outputs": [
    {
     "data": {
      "text/plain": [
       "'Clark is now carrying an entire plane!'"
      ]
     },
     "execution_count": 4,
     "metadata": {},
     "output_type": "execute_result"
    }
   ],
   "source": [
    "clark.lift_heavy_stuff('plane')"
   ]
  },
  {
   "cell_type": "markdown",
   "metadata": {},
   "source": [
    "### Example explained\n",
    "\n",
    "Now what's going on up there ! to define a class in python we first type the keyword *class* followed by the name of the class then we proceed to structure this class as the following\n",
    "Firstly we need to understand what is this `def __init__()` method, this method initializes an instance of the class, now you're still thinking WHAT THE HECK DOES THAT MEAN !!!!!!! simply put, a class is a **template** a pre defined unique variable type we decide what it can and can't do and *clark* variable here is a **copy** of that class or template\n",
    "\n",
    "We decided that superman can fly and carry heavy stuff around like a real superman and in that way OOP helped us **model real life objects with code** so any object of that class has access to its *superpowers* "
   ]
  },
  {
   "cell_type": "markdown",
   "metadata": {},
   "source": [
    "### Class Methods\n",
    "\n",
    "Each class has its own methods which we used to call *functions*, they're the same thing but it's just because they're inside a class we refer to them as *methods* and we're going to look bit deeper into these methods and what's different about them \n",
    "\n",
    "Each method **can't** have empty arguments, they all have a `self` argument as we've seen in the example and we can't ignore that argument because it enables us to access the variables defined within the class which are called *attributes* that each instance of any class has, in our example an object of the class `superman` has these attributes *name* , *age* and *job* which were initialized when we defined the object so in order for a method to access those you have to add the `self` argument just like how we did in our two methods `fly()` and `lift_heavy_stuff()`\n",
    "\n",
    "Let's create another class example which is a bit more interesting and fun and also uses other python concepts"
   ]
  },
  {
   "cell_type": "code",
   "execution_count": 9,
   "metadata": {},
   "outputs": [
    {
     "data": {
      "text/plain": [
       "180"
      ]
     },
     "execution_count": 9,
     "metadata": {},
     "output_type": "execute_result"
    }
   ],
   "source": [
    "class simp:\n",
    "    def __init__(self,name,age,money):\n",
    "        self.name = name\n",
    "        self.age = age\n",
    "        self.money = money\n",
    "        self.girls = []\n",
    "    \n",
    "    def sub_to_girl(self,girl):\n",
    "        self.girls.append(girl)\n",
    "        self.money -= 20\n",
    "        \n",
    "    def show_money(self):\n",
    "        return self.money\n",
    "    \n",
    "    def show_girls(self):\n",
    "        return self.girls\n",
    "    \n",
    "\n",
    "some_simp = simp('Brian',19,200)\n",
    "some_simp.sub_to_girl('Nicki')\n",
    "some_simp.show_money()"
   ]
  },
  {
   "cell_type": "code",
   "execution_count": 10,
   "metadata": {},
   "outputs": [
    {
     "data": {
      "text/plain": [
       "['Nicki']"
      ]
     },
     "execution_count": 10,
     "metadata": {},
     "output_type": "execute_result"
    }
   ],
   "source": [
    "some_simp.show_girls()"
   ]
  },
  {
   "cell_type": "markdown",
   "metadata": {},
   "source": [
    "### Example Explained\n",
    "\n",
    "Believe it or not, you have to be this silly sometimes just to understand some concepts easier :D\n",
    "So let's break this example down part by part\n",
    "\n",
    "1. The usual class definition and initialization\n",
    "2. in the `__init__()` method we have added an empty list this time which will be useful in the next method and also *money*, an integer value the user will provide\n",
    "3. `sub_to_girls()` takes two args, the usual `self` argument, as well as an arg the user provides so we then append it to our empty *girls* list\n",
    "4. In the same method we then subtract 20 from the money we already have "
   ]
  },
  {
   "cell_type": "markdown",
   "metadata": {},
   "source": [
    "### Inheritance \n",
    "\n",
    "The concept of inheritance is a powerful and useful feature of OOP programming as it allows us to declare a *parent* class and then create *children* classes that inherit everything from that class including the attributes and methods \n",
    "\n",
    "Typically this is how it's structured \n",
    "\n",
    "``` \n",
    "class parent:\n",
    "    def __init__(self):\n",
    "        #your attributes and methods here\n",
    "  \n",
    "class child (parent):\n",
    "    #your attributes and methods here\n",
    "\n",
    "```\n",
    "\n",
    "This way when we define an object of the child class we will be able to access the parent's class attributes and methods and we won't have to define a new `__init__()` method unless we want to add more attributes to the child class\n",
    "\n",
    "So by default adding the `__init__()` method to the child will overwrite the parent's method so i'll give two examples of how to declare a child class to inherit and also how to inherit the `__init__()` and add to it"
   ]
  },
  {
   "cell_type": "code",
   "execution_count": 11,
   "metadata": {},
   "outputs": [
    {
     "name": "stdout",
     "output_type": "stream",
     "text": [
      "Volvo\n"
     ]
    }
   ],
   "source": [
    "class vehicle:\n",
    "    def __init__(self):\n",
    "        self.name = 'Volvo'\n",
    "        self.color = 'white'\n",
    "        self.is_new = True\n",
    "    \n",
    "    def accelerate(self,speed):\n",
    "        return f\"{self.name} is now mvoing at speed of {speed}\"\n",
    "\n",
    "class car(vehicle):\n",
    "    pass\n",
    "\n",
    "bmw = car() # Notice how i made an object of the child class just so we can see how we can access the parent's attributes\n",
    "\n",
    "print(bmw.name)"
   ]
  },
  {
   "cell_type": "code",
   "execution_count": 12,
   "metadata": {},
   "outputs": [
    {
     "name": "stdout",
     "output_type": "stream",
     "text": [
      "white\n"
     ]
    }
   ],
   "source": [
    "print(bmw.color)"
   ]
  },
  {
   "cell_type": "code",
   "execution_count": 13,
   "metadata": {},
   "outputs": [
    {
     "name": "stdout",
     "output_type": "stream",
     "text": [
      "True\n"
     ]
    }
   ],
   "source": [
    "print(bmw.is_new)"
   ]
  },
  {
   "cell_type": "code",
   "execution_count": 14,
   "metadata": {},
   "outputs": [
    {
     "name": "stdout",
     "output_type": "stream",
     "text": [
      "Volvo is now mvoing at speed of 200\n"
     ]
    }
   ],
   "source": [
    "print(bmw.accelerate(200))"
   ]
  },
  {
   "cell_type": "markdown",
   "metadata": {},
   "source": [
    "Now we're going to inherit the `__init__()` just so we can add more attributes to the child class"
   ]
  },
  {
   "cell_type": "code",
   "execution_count": 5,
   "metadata": {},
   "outputs": [
    {
     "name": "stdout",
     "output_type": "stream",
     "text": [
      "2018\n",
      "Volvo is now moving at speed of 100\n",
      "Volvo has stopped moving\n"
     ]
    }
   ],
   "source": [
    "class vehicle:\n",
    "    def __init__(self):\n",
    "        self.name = 'Volvo'\n",
    "        self.color = 'white'\n",
    "        self.is_new = True\n",
    "    \n",
    "    def accelerate(self,speed):\n",
    "        return f\"{self.name} is now moving at speed of {speed}\"\n",
    "\n",
    "class car(vehicle):\n",
    "    def __init__(self):\n",
    "        super().__init__()\n",
    "        self.model = 2018\n",
    "    \n",
    "    def stop(self):\n",
    "        return f\"{self.name} has stopped moving\"\n",
    "\n",
    "    \n",
    "van = car()\n",
    "print(van.model)\n",
    "print(van.accelerate(100))\n",
    "print(van.stop())"
   ]
  },
  {
   "cell_type": "markdown",
   "metadata": {},
   "source": [
    "### Example review\n",
    "\n",
    "So you're probably wondering what is this `super()` method and what did it add to the code so please stay with me\n",
    "Rememeber when i mentioned earlier that defining a new `__init__()` will overwrite the parent's one? Well it'd be a problem if we did so for that reason we used this `super()` method to inherit the `__init__()` method of the parent and this method automatically figures out which `__init__()` are we talking about in case of multiple classes because it sees which parent class our child class inherited from\n",
    "After we inherited the `__init__()` method which is a default behavior by the way as we saw in the first example, we added a new attribute to the child clas which is the `self.model` \n",
    "So in short *we use the `super()` method to inherit the parent's `__init__()` method because defining a new one for the child will overwrite the parent's one and so we can add more attributes to the child `__init__()` method*"
   ]
  },
  {
   "cell_type": "markdown",
   "metadata": {},
   "source": [
    "### Class Variables\n",
    "\n",
    "Sometimes we need to have default values for some classes and this is done by assigning *class variables* to do that task and they're pretty simple to implement just like in this example"
   ]
  },
  {
   "cell_type": "code",
   "execution_count": 16,
   "metadata": {},
   "outputs": [
    {
     "name": "stdout",
     "output_type": "stream",
     "text": [
      "John\n",
      "33\n",
      "Project manager\n",
      "2000\n"
     ]
    }
   ],
   "source": [
    "class employee:\n",
    "    name = 'John'\n",
    "    age = 33\n",
    "    position = 'Project manager'\n",
    "    salary = 2000\n",
    "    def __init__(self):\n",
    "        pass\n",
    "\n",
    "emp = employee()\n",
    "print(emp.name)\n",
    "print(emp.age)\n",
    "print(emp.position)\n",
    "print(emp.salary)"
   ]
  },
  {
   "cell_type": "markdown",
   "metadata": {},
   "source": [
    "In the example above we didn't have to pass any args to the `__init__()` method since we explicitly declared our attributes that way so any objects of that class have access to them and we can overwrite those variables easily through the `__init__()` method this way "
   ]
  },
  {
   "cell_type": "code",
   "execution_count": 17,
   "metadata": {},
   "outputs": [
    {
     "name": "stdout",
     "output_type": "stream",
     "text": [
      "Robert\n",
      "33\n",
      "Project manager\n",
      "2500\n"
     ]
    }
   ],
   "source": [
    "class employee:\n",
    "    name = 'John'\n",
    "    age = 33\n",
    "    position = 'Project manager'\n",
    "    salary = 2000\n",
    "    def __init__(self,name,salary): #YOU CAN PASS IN ANY ARGS YOU WANT EVEN IF YOU PASS MORE NEW ARGS\n",
    "        self.name = name\n",
    "        self.salary = salary\n",
    "\n",
    "emp = employee('Robert',2500)\n",
    "print(emp.name)\n",
    "print(emp.age)\n",
    "print(emp.position)\n",
    "print(emp.salary)"
   ]
  },
  {
   "cell_type": "markdown",
   "metadata": {},
   "source": [
    "### Polymorphism in python\n",
    "\n",
    "Polymorphism allows us to assign same name to different class methods or functions and in this section we're only gonna be concenred with class methods \n",
    "\n",
    "So the way we will implement this concept is we're gonna define two classes with the same class methods names but different class method bodies and we're gonna see how to assign objects and how do these class methods behave differently for each object\n"
   ]
  },
  {
   "cell_type": "code",
   "execution_count": 1,
   "metadata": {},
   "outputs": [
    {
     "name": "stdout",
     "output_type": "stream",
     "text": [
      "New Delhi\n",
      "Hindi and English\n",
      "Washington, D.C.\n",
      "English\n"
     ]
    }
   ],
   "source": [
    "class India():\n",
    "     def capital(self):\n",
    "       print(\"New Delhi\")\n",
    " \n",
    "     def language(self):\n",
    "       print(\"Hindi and English\")\n",
    " \n",
    "class USA():\n",
    "     def capital(self):\n",
    "       print(\"Washington, D.C.\")\n",
    " \n",
    "     def language(self):\n",
    "       print(\"English\")\n",
    " \n",
    "obj_ind = India()\n",
    "obj_usa = USA()\n",
    "for country in (obj_ind, obj_usa):\n",
    "    country.capital()\n",
    "    country.language()"
   ]
  },
  {
   "cell_type": "markdown",
   "metadata": {},
   "source": [
    "Also the same can be applied to inheritence in python, we'll see how to implement polymorphism with classes inheriting from each other "
   ]
  },
  {
   "cell_type": "code",
   "execution_count": 2,
   "metadata": {},
   "outputs": [
    {
     "name": "stdout",
     "output_type": "stream",
     "text": [
      "There are different types of birds\n",
      "Most of the birds can fly but some cannot\n",
      "There are different types of birds\n",
      "Parrots can fly\n",
      "There are different types of birds\n",
      "Penguins do not fly\n"
     ]
    }
   ],
   "source": [
    "class Bird:\n",
    "     def intro(self):\n",
    "       print(\"There are different types of birds\")\n",
    " \n",
    "     def flight(self):\n",
    "       print(\"Most of the birds can fly but some cannot\")\n",
    " \n",
    "class parrot(Bird):\n",
    "     def flight(self):\n",
    "       print(\"Parrots can fly\")\n",
    " \n",
    "class penguin(Bird):\n",
    "     def flight(self):\n",
    "       print(\"Penguins do not fly\")\n",
    " \n",
    "obj_bird = Bird()\n",
    "obj_parr = parrot()\n",
    "obj_peng = penguin()\n",
    " \n",
    "obj_bird.intro()\n",
    "obj_bird.flight()\n",
    " \n",
    "obj_parr.intro()\n",
    "obj_parr.flight()\n",
    " \n",
    "obj_peng.intro()\n",
    "obj_peng.flight()"
   ]
  },
  {
   "cell_type": "markdown",
   "metadata": {},
   "source": [
    "### Encapsulation\n",
    "\n",
    "The idea of encapsulation is the ability to define and use variables only within the scope of the class, which means we can only access them inside the class methods we could say but not directly from outside the class\n",
    "\n",
    "By convention, when declaring such variables we use a single underscore prior to the variable name `self._name` for example but in reality that has no effect on *making the variables private* therefore we use double underscore as prefix to achieve such task \n",
    "\n",
    "These two examples will showcase both options so we can see why we choose one over the other for the sake encapsulation "
   ]
  },
  {
   "cell_type": "code",
   "execution_count": 3,
   "metadata": {},
   "outputs": [
    {
     "name": "stdout",
     "output_type": "stream",
     "text": [
      "Dev\n",
      "30\n",
      "Dev\n",
      "30\n"
     ]
    }
   ],
   "source": [
    "# USING SINGLE UNDERSCORE TO LIMIT THE VARIABLES ACCESS\n",
    "\n",
    "class Person:\n",
    "    def __init__(self, name, age=0):\n",
    "        self.name = name\n",
    "        self._age = age\n",
    " \n",
    "    def display(self):\n",
    "        print(self.name)\n",
    "        print(self._age)\n",
    " \n",
    "person = Person('Dev', 30)\n",
    "#accessing using class method\n",
    "person.display()\n",
    "#accessing directly from outside\n",
    "print(person.name)\n",
    "print(person._age)"
   ]
  },
  {
   "cell_type": "code",
   "execution_count": 4,
   "metadata": {},
   "outputs": [
    {
     "name": "stdout",
     "output_type": "stream",
     "text": [
      "Dev\n",
      "30\n",
      "Trying to access variables from outside the class \n",
      "Dev\n"
     ]
    },
    {
     "ename": "AttributeError",
     "evalue": "'Person' object has no attribute '__age'",
     "output_type": "error",
     "traceback": [
      "\u001b[1;31m---------------------------------------------------------------------------\u001b[0m",
      "\u001b[1;31mAttributeError\u001b[0m                            Traceback (most recent call last)",
      "\u001b[1;32m<ipython-input-4-02f39af282bd>\u001b[0m in \u001b[0;36m<module>\u001b[1;34m\u001b[0m\n\u001b[0;32m     14\u001b[0m \u001b[0mprint\u001b[0m\u001b[1;33m(\u001b[0m\u001b[1;34m'Trying to access variables from outside the class '\u001b[0m\u001b[1;33m)\u001b[0m\u001b[1;33m\u001b[0m\u001b[1;33m\u001b[0m\u001b[0m\n\u001b[0;32m     15\u001b[0m \u001b[0mprint\u001b[0m\u001b[1;33m(\u001b[0m\u001b[0mperson\u001b[0m\u001b[1;33m.\u001b[0m\u001b[0mname\u001b[0m\u001b[1;33m)\u001b[0m\u001b[1;33m\u001b[0m\u001b[1;33m\u001b[0m\u001b[0m\n\u001b[1;32m---> 16\u001b[1;33m \u001b[0mprint\u001b[0m\u001b[1;33m(\u001b[0m\u001b[0mperson\u001b[0m\u001b[1;33m.\u001b[0m\u001b[0m__age\u001b[0m\u001b[1;33m)\u001b[0m\u001b[1;33m\u001b[0m\u001b[1;33m\u001b[0m\u001b[0m\n\u001b[0m",
      "\u001b[1;31mAttributeError\u001b[0m: 'Person' object has no attribute '__age'"
     ]
    }
   ],
   "source": [
    "class Person:\n",
    "    def __init__(self, name, age=0):\n",
    "        self.name = name\n",
    "        self.__age = age\n",
    " \n",
    "    def display(self):\n",
    "        print(self.name)\n",
    "        print(self.__age)\n",
    " \n",
    "person = Person('Dev', 30)\n",
    "#accessing using class method\n",
    "person.display()\n",
    "#accessing directly from outside\n",
    "print('Trying to access variables from outside the class ')\n",
    "print(person.name)\n",
    "print(person.__age) # THIS ATTRIBUTE ONLY EXISTS WITHIN THE SCOPE OF THE CLASS ONLY THAT'S WHY WE CAN'T ACCESS IT FROM OUTSIDE"
   ]
  }
 ],
 "metadata": {
  "kernelspec": {
   "display_name": "Python 3",
   "language": "python",
   "name": "python3"
  },
  "language_info": {
   "codemirror_mode": {
    "name": "ipython",
    "version": 3
   },
   "file_extension": ".py",
   "mimetype": "text/x-python",
   "name": "python",
   "nbconvert_exporter": "python",
   "pygments_lexer": "ipython3",
   "version": "3.7.7"
  }
 },
 "nbformat": 4,
 "nbformat_minor": 4
}
