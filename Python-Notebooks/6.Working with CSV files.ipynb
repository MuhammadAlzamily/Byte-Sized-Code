{
 "cells": [
  {
   "cell_type": "markdown",
   "metadata": {},
   "source": [
    "# Working with CSV Files\n",
    "\n",
    "**By Arpit Omprakash, Byte Sized Code**"
   ]
  },
  {
   "cell_type": "markdown",
   "metadata": {},
   "source": [
    "**Import the csv module**\n",
    "\n",
    "To make things easy, we will use the `csv` library from the Python standard library."
   ]
  },
  {
   "cell_type": "code",
   "execution_count": 23,
   "metadata": {},
   "outputs": [],
   "source": [
    "import csv"
   ]
  },
  {
   "cell_type": "markdown",
   "metadata": {},
   "source": [
    "## Generating CSV Files\n",
    "\n",
    "We can use either lists or dictionaries to generate csv data and files.  \n",
    "Let's use lists to create an `employee.csv` file that stores data about some employees."
   ]
  },
  {
   "cell_type": "markdown",
   "metadata": {},
   "source": [
    "**Using lists**\n",
    "\n",
    "First we need to create a list of employees."
   ]
  },
  {
   "cell_type": "code",
   "execution_count": 24,
   "metadata": {},
   "outputs": [],
   "source": [
    "employees = [[\"Sabrina\", 9567622648, \"IT support\"], [\"John\", 9456721352, \"Sysadmin\"], [\"Kelly\", 9645871235, \"Receptionist\"]]"
   ]
  },
  {
   "cell_type": "markdown",
   "metadata": {},
   "source": [
    "Using the `csv.writer` class, we create a writer object that will write into our csv files properly.  \n",
    "The `writer` class takes in a file as argument.  \n",
    "We use the `writerows` method of the `writer` class to write more than one row of data to our csv file.  \n",
    "We can also use the `writerow` method to write a single row of data to our file.\n",
    "\n",
    "According to the [docs](https://docs.python.org/3/library/csv.html#csv.writer), while writing to file objects, we have to include the `newline=''` argument to prevent the `writer` class from writing empty lines to our file."
   ]
  },
  {
   "cell_type": "code",
   "execution_count": 25,
   "metadata": {},
   "outputs": [],
   "source": [
    "with open(\"employee.csv\", \"w+\", newline='') as employee_file:\n",
    "    writer = csv.writer(employee_file)\n",
    "    writer.writerows(employees)"
   ]
  },
  {
   "cell_type": "markdown",
   "metadata": {},
   "source": [
    "Let's open up the csv file and read the contents as we would with any other file."
   ]
  },
  {
   "cell_type": "code",
   "execution_count": 26,
   "metadata": {},
   "outputs": [
    {
     "name": "stdout",
     "output_type": "stream",
     "text": [
      "Sabrina,9567622648,IT support\n",
      "John,9456721352,Sysadmin\n",
      "Kelly,9645871235,Receptionist\n"
     ]
    }
   ],
   "source": [
    "with open(\"employee.csv\") as employee_file:\n",
    "    for line in employee_file:\n",
    "        print(line.strip())"
   ]
  },
  {
   "cell_type": "markdown",
   "metadata": {},
   "source": [
    "**Using dictionaries**\n",
    "\n",
    "We can also use dictionaries to write data to csv file.  \n",
    "Dictionaries help make things easier by providing headers for the data that we want to write to the files.  \n",
    "Keep in mind, we need to define a list containing the data for the header row (column names) before writing dictionaries to csv.\n",
    "\n",
    "In this example, we use a dictionary to create a csv file that stores data about some softwares."
   ]
  },
  {
   "cell_type": "code",
   "execution_count": 27,
   "metadata": {},
   "outputs": [],
   "source": [
    "softwares = [\n",
    "    {\"name\": \"Chatty Chicken\", \"version\": \"1.02.03\", \"users\": 54},\n",
    "    {\"name\": \"Coder Kitchen\", \"version\": \"1.32.30\", \"users\": 104},\n",
    "    {\"name\": \"Sensible Writer\", \"version\": \"4.1.03\", \"users\": 454},\n",
    "    {\"name\": \"Magic Image Viewer\", \"version\": \"0.1.20\", \"users\": 4},\n",
    "            ]\n",
    "keys = [\"name\", \"version\", \"users\"]"
   ]
  },
  {
   "cell_type": "markdown",
   "metadata": {},
   "source": [
    "For writing dictionaries to csv files, we use the `csv.DictWriter` class.  \n",
    "The class takes the file as an argument.  \n",
    "We also provide the header data to the `fieldnames` argument.  \n",
    "The `writeheader()` method is called first and it writes the header as the first line of the file.  \n",
    "Then we use the `writerows()` method to write data using the dictionary."
   ]
  },
  {
   "cell_type": "code",
   "execution_count": 28,
   "metadata": {},
   "outputs": [],
   "source": [
    "with open(\"software.csv\", \"w+\", newline='') as software_file:\n",
    "    writer = csv.DictWriter(software_file, fieldnames=keys)\n",
    "    writer.writeheader()\n",
    "    writer.writerows(softwares)"
   ]
  },
  {
   "cell_type": "markdown",
   "metadata": {},
   "source": [
    "Let's have a look at what we just wrote to the csv file."
   ]
  },
  {
   "cell_type": "code",
   "execution_count": 29,
   "metadata": {},
   "outputs": [
    {
     "name": "stdout",
     "output_type": "stream",
     "text": [
      "name,version,users\n",
      "Chatty Chicken,1.02.03,54\n",
      "Coder Kitchen,1.32.30,104\n",
      "Sensible Writer,4.1.03,454\n",
      "Magic Image Viewer,0.1.20,4\n"
     ]
    }
   ],
   "source": [
    "with open(\"software.csv\") as software_file:\n",
    "    for line in software_file:\n",
    "        print(line.strip())"
   ]
  },
  {
   "cell_type": "markdown",
   "metadata": {},
   "source": [
    "## Reading data from CSV Files\n",
    "\n",
    "In the cells above we just used the `open()` function and a for loop to print out the contents of files.  \n",
    "That is not what we want to do while manipulating and dealing with CSV data.  \n",
    "Ideally, we should read the data in the form of rows and columns as it makes life easier and we can access individual datapoints with relative ease."
   ]
  },
  {
   "cell_type": "markdown",
   "metadata": {},
   "source": [
    "**Without headers**\n",
    "\n",
    "To read a csv file without headers, we use the `csv.reader()` class.  \n",
    "The class takes in the file as an argument.  \n",
    "We can then access data from the file in the form of rows and columns.  \n",
    "\n",
    "For example, if we want to print out the names of employees from the \"employee.csv\" file, we can use the following code:"
   ]
  },
  {
   "cell_type": "code",
   "execution_count": 30,
   "metadata": {},
   "outputs": [
    {
     "name": "stdout",
     "output_type": "stream",
     "text": [
      "Sabrina\n",
      "John\n",
      "Kelly\n"
     ]
    }
   ],
   "source": [
    "with open(\"employee.csv\") as f:\n",
    "    csv_f = csv.reader(f)\n",
    "    for row in csv_f:\n",
    "        print(row[0])"
   ]
  },
  {
   "cell_type": "markdown",
   "metadata": {},
   "source": [
    "A better method would be to unpack the given row into its individual columns and then print the data.  \n",
    "A downside here is that, we need to know what all columns are present in the file and unpack accordingly (we have to write name first, then phone and finally role, if we change the order, the data won't match the variable)."
   ]
  },
  {
   "cell_type": "code",
   "execution_count": 31,
   "metadata": {},
   "outputs": [
    {
     "name": "stdout",
     "output_type": "stream",
     "text": [
      "Name: Sabrina, Phone: 9567622648, Role: IT support\n",
      "Name: John, Phone: 9456721352, Role: Sysadmin\n",
      "Name: Kelly, Phone: 9645871235, Role: Receptionist\n"
     ]
    }
   ],
   "source": [
    "with open(\"employee.csv\") as f:\n",
    "    csv_f = csv.reader(f)\n",
    "    for row in csv_f:\n",
    "        name, phone, role = row\n",
    "        print(\"Name: {}, Phone: {}, Role: {}\".format(name, phone, role))"
   ]
  },
  {
   "cell_type": "markdown",
   "metadata": {},
   "source": [
    "**With headers**\n",
    "\n",
    "*What if we don't know what columns contain what data?  \n",
    "Or we have a csv file with headers?*\n",
    "\n",
    "The better class to use here would be `csv.DictReader`  \n",
    "Using this class we can access the columns from our data by using the column headers.  \n",
    "We don't have to remember the order of columns anymore. Yay!"
   ]
  },
  {
   "cell_type": "code",
   "execution_count": 32,
   "metadata": {},
   "outputs": [
    {
     "name": "stdout",
     "output_type": "stream",
     "text": [
      "Chatty Chicken has 54 users\n",
      "Coder Kitchen has 104 users\n",
      "Sensible Writer has 454 users\n",
      "Magic Image Viewer has 4 users\n"
     ]
    }
   ],
   "source": [
    "with open(\"software.csv\") as software:\n",
    "    reader = csv.DictReader(software)\n",
    "    for row in reader:\n",
    "        print(\"{} has {} users\".format(row[\"name\"], row[\"users\"]))"
   ]
  }
 ],
 "metadata": {
  "kernelspec": {
   "display_name": "Python 3",
   "language": "python",
   "name": "python3"
  },
  "language_info": {
   "codemirror_mode": {
    "name": "ipython",
    "version": 3
   },
   "file_extension": ".py",
   "mimetype": "text/x-python",
   "name": "python",
   "nbconvert_exporter": "python",
   "pygments_lexer": "ipython3",
   "version": "3.7.7"
  }
 },
 "nbformat": 4,
 "nbformat_minor": 4
}
